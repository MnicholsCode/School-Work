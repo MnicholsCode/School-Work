{
 "cells": [
  {
   "cell_type": "markdown",
   "metadata": {},
   "source": [
    "# COSC - Project 02\n",
    "\n",
    "### Malcolm Nichols"
   ]
  },
  {
   "cell_type": "markdown",
   "metadata": {},
   "source": [
    "## Introduction\n",
    "The purpose of this porject is the use the functions defined in the script file to then create a Sudoku solver."
   ]
  },
  {
   "cell_type": "code",
   "execution_count": 1,
   "metadata": {},
   "outputs": [],
   "source": [
    "%run -i Sudoku.py"
   ]
  },
  {
   "cell_type": "markdown",
   "metadata": {},
   "source": [
    "## Puzzle 1\n",
    "\n",
    "We will begin by loading puzzle 1 (puzzle01.txt) from file and testing out functions on it."
   ]
  },
  {
   "cell_type": "code",
   "execution_count": 2,
   "metadata": {
    "scrolled": true
   },
   "outputs": [
    {
     "name": "stdout",
     "output_type": "stream",
     "text": [
      "Sudoku loaded from puzzle01.txt \n",
      "\n",
      "+-------+-------+-------+\n",
      "| 5 . . | . . . | . . . |\n",
      "| . 9 . | 7 . . | 8 . . |\n",
      "| . . . | . 3 . | . 7 . |\n",
      "+-------+-------+-------+\n",
      "| 6 . 1 | . . . | 9 8 . |\n",
      "| . . . | 6 . . | . . . |\n",
      "| . . 9 | . . . | 7 . 1 |\n",
      "+-------+-------+-------+\n",
      "| . . . | . . 8 | 1 9 . |\n",
      "| . 4 . | 5 . 1 | . . 8 |\n",
      "| . 7 . | 3 . 6 | . 4 . |\n",
      "+-------+-------+-------+\n"
     ]
    }
   ],
   "source": [
    "puzzle01 = load_puzzle('puzzle01.txt')\n",
    "display_puzzle(puzzle01)"
   ]
  },
  {
   "cell_type": "markdown",
   "metadata": {},
   "source": [
    "We will now attempt to find the solution for this puzzle"
   ]
  },
  {
   "cell_type": "code",
   "execution_count": 3,
   "metadata": {},
   "outputs": [
    {
     "name": "stdout",
     "output_type": "stream",
     "text": [
      "+-------+-------+-------+\n",
      "| 5 1 7 | 9 8 4 | 3 2 6 |\n",
      "| 4 9 3 | 7 6 2 | 8 1 5 |\n",
      "| 8 2 6 | 1 3 5 | 4 7 9 |\n",
      "+-------+-------+-------+\n",
      "| 6 3 1 | 2 5 7 | 9 8 4 |\n",
      "| 7 8 4 | 6 1 9 | 2 5 3 |\n",
      "| 2 5 9 | 8 4 3 | 7 6 1 |\n",
      "+-------+-------+-------+\n",
      "| 3 6 5 | 4 2 8 | 1 9 7 |\n",
      "| 9 4 2 | 5 7 1 | 6 3 8 |\n",
      "| 1 7 8 | 3 9 6 | 5 4 2 |\n",
      "+-------+-------+-------+\n"
     ]
    }
   ],
   "source": [
    "solve_puzzle01 = solve(puzzle01)\n",
    "if solve_puzzle01 is None:\n",
    "    print(\"No solution exists for this puzzle\")\n",
    "else:\n",
    "    display_puzzle(solve_puzzle01)"
   ]
  },
  {
   "cell_type": "markdown",
   "metadata": {},
   "source": [
    "## Puzzle 2\n",
    "\n",
    "We will begin by loading puzzle 2 (puzzle02.txt) from file and testing out functions on it."
   ]
  },
  {
   "cell_type": "code",
   "execution_count": 4,
   "metadata": {
    "scrolled": true
   },
   "outputs": [
    {
     "name": "stdout",
     "output_type": "stream",
     "text": [
      "Sudoku loaded from puzzle02.txt \n",
      "\n",
      "+-------+-------+-------+\n",
      "| . 6 7 | . 9 . | 4 . . |\n",
      "| 9 . . | 4 . . | . . . |\n",
      "| . 3 . | . . . | 1 5 . |\n",
      "+-------+-------+-------+\n",
      "| . . . | . 2 . | . . . |\n",
      "| 1 . 6 | 7 4 . | . . . |\n",
      "| 7 . 3 | . . . | . . . |\n",
      "+-------+-------+-------+\n",
      "| . . 9 | . 1 . | 5 3 . |\n",
      "| . 7 . | . . . | 6 . 2 |\n",
      "| 2 1 . | . 3 . | . 7 . |\n",
      "+-------+-------+-------+\n"
     ]
    }
   ],
   "source": [
    "puzzle02 = load_puzzle('puzzle02.txt')\n",
    "display_puzzle(puzzle02)"
   ]
  },
  {
   "cell_type": "markdown",
   "metadata": {},
   "source": [
    "We will now attempt to find the solution for this puzzle"
   ]
  },
  {
   "cell_type": "code",
   "execution_count": 5,
   "metadata": {},
   "outputs": [
    {
     "name": "stdout",
     "output_type": "stream",
     "text": [
      "+-------+-------+-------+\n",
      "| 5 6 7 | 1 9 2 | 4 8 3 |\n",
      "| 9 8 1 | 4 5 3 | 2 6 7 |\n",
      "| 4 3 2 | 8 7 6 | 1 5 9 |\n",
      "+-------+-------+-------+\n",
      "| 8 5 4 | 3 2 1 | 7 9 6 |\n",
      "| 1 9 6 | 7 4 8 | 3 2 5 |\n",
      "| 7 2 3 | 5 6 9 | 8 4 1 |\n",
      "+-------+-------+-------+\n",
      "| 6 4 9 | 2 1 7 | 5 3 8 |\n",
      "| 3 7 5 | 9 8 4 | 6 1 2 |\n",
      "| 2 1 8 | 6 3 5 | 9 7 4 |\n",
      "+-------+-------+-------+\n"
     ]
    }
   ],
   "source": [
    "solve_puzzle02 = solve(puzzle02)\n",
    "if solve_puzzle02 is None:\n",
    "    print(\"No solution exists for this puzzle\")\n",
    "else:\n",
    "    display_puzzle(solve_puzzle02)"
   ]
  },
  {
   "cell_type": "markdown",
   "metadata": {},
   "source": [
    "## Puzzle 3\n",
    "\n",
    "We will begin by loading puzzle 3 (puzzle03.txt) from file and testing out functions on it."
   ]
  },
  {
   "cell_type": "code",
   "execution_count": 6,
   "metadata": {
    "scrolled": true
   },
   "outputs": [
    {
     "name": "stdout",
     "output_type": "stream",
     "text": [
      "Sudoku loaded from puzzle03.txt \n",
      "\n",
      "+-------+-------+-------+\n",
      "| . . 6 | . . 3 | 1 . . |\n",
      "| 8 . . | . . . | . 3 . |\n",
      "| . 2 . | . . . | . . 5 |\n",
      "+-------+-------+-------+\n",
      "| 5 . . | . 1 . | . . 8 |\n",
      "| 3 . . | . . . | 2 . . |\n",
      "| . . 1 | . . 7 | 4 . . |\n",
      "+-------+-------+-------+\n",
      "| . 5 . | . 4 6 | 8 . . |\n",
      "| 4 3 2 | . 7 . | . . . |\n",
      "| . . . | 5 . . | . . 1 |\n",
      "+-------+-------+-------+\n"
     ]
    }
   ],
   "source": [
    "puzzle03 = load_puzzle('puzzle03.txt')\n",
    "display_puzzle(puzzle03)"
   ]
  },
  {
   "cell_type": "markdown",
   "metadata": {},
   "source": [
    "We will now attempt to find the solution for this puzzle"
   ]
  },
  {
   "cell_type": "code",
   "execution_count": 7,
   "metadata": {},
   "outputs": [
    {
     "name": "stdout",
     "output_type": "stream",
     "text": [
      "+-------+-------+-------+\n",
      "| 9 4 6 | 8 5 3 | 1 7 2 |\n",
      "| 8 1 5 | 7 2 9 | 6 3 4 |\n",
      "| 7 2 3 | 4 6 1 | 9 8 5 |\n",
      "+-------+-------+-------+\n",
      "| 5 7 9 | 2 1 4 | 3 6 8 |\n",
      "| 3 8 4 | 6 9 5 | 2 1 7 |\n",
      "| 2 6 1 | 3 8 7 | 4 5 9 |\n",
      "+-------+-------+-------+\n",
      "| 1 5 7 | 9 4 6 | 8 2 3 |\n",
      "| 4 3 2 | 1 7 8 | 5 9 6 |\n",
      "| 6 9 8 | 5 3 2 | 7 4 1 |\n",
      "+-------+-------+-------+\n"
     ]
    }
   ],
   "source": [
    "solve_puzzle03 = solve(puzzle03)\n",
    "if solve_puzzle03 is None:\n",
    "    print(\"No solution exists for this puzzle\")\n",
    "else:\n",
    "    display_puzzle(solve_puzzle03)"
   ]
  },
  {
   "cell_type": "markdown",
   "metadata": {},
   "source": [
    "## Puzzle 4\n",
    "\n",
    "We will begin by loading puzzle 4 (puzzle04.txt) from file and testing out functions on it."
   ]
  },
  {
   "cell_type": "code",
   "execution_count": 8,
   "metadata": {},
   "outputs": [
    {
     "name": "stdout",
     "output_type": "stream",
     "text": [
      "Sudoku loaded from puzzle04.txt \n",
      "\n",
      "+-------+-------+-------+\n",
      "| . 9 7 | 1 . . | . 4 . |\n",
      "| . 8 1 | . 4 . | . . 6 |\n",
      "| . . . | . . 6 | . . . |\n",
      "+-------+-------+-------+\n",
      "| . . . | . . 4 | . . . |\n",
      "| . . 5 | 7 1 . | 6 . . |\n",
      "| . . . | 8 . . | . 1 . |\n",
      "+-------+-------+-------+\n",
      "| 9 7 . | 2 . . | . 6 5 |\n",
      "| 5 . 6 | 9 . . | . 2 . |\n",
      "| 1 . . | . . . | 8 . . |\n",
      "+-------+-------+-------+\n"
     ]
    }
   ],
   "source": [
    "puzzle04 = load_puzzle('puzzle04.txt')\n",
    "display_puzzle(puzzle04)"
   ]
  },
  {
   "cell_type": "markdown",
   "metadata": {},
   "source": [
    "We will now attempt to find the solution for this puzzle"
   ]
  },
  {
   "cell_type": "code",
   "execution_count": 9,
   "metadata": {},
   "outputs": [
    {
     "name": "stdout",
     "output_type": "stream",
     "text": [
      "+-------+-------+-------+\n",
      "| 6 9 7 | 1 8 2 | 5 4 3 |\n",
      "| 3 8 1 | 5 4 7 | 2 9 6 |\n",
      "| 2 5 4 | 3 9 6 | 1 8 7 |\n",
      "+-------+-------+-------+\n",
      "| 7 1 3 | 6 2 4 | 9 5 8 |\n",
      "| 8 2 5 | 7 1 9 | 6 3 4 |\n",
      "| 4 6 9 | 8 5 3 | 7 1 2 |\n",
      "+-------+-------+-------+\n",
      "| 9 7 8 | 2 3 1 | 4 6 5 |\n",
      "| 5 4 6 | 9 7 8 | 3 2 1 |\n",
      "| 1 3 2 | 4 6 5 | 8 7 9 |\n",
      "+-------+-------+-------+\n"
     ]
    }
   ],
   "source": [
    "solve_puzzle04 = solve(puzzle04)\n",
    "if solve_puzzle04 is None:\n",
    "    print(\"No solution exists for this puzzle\")\n",
    "else:\n",
    "    display_puzzle(solve_puzzle04)"
   ]
  }
 ],
 "metadata": {
  "kernelspec": {
   "display_name": "Python 3",
   "language": "python",
   "name": "python3"
  },
  "language_info": {
   "codemirror_mode": {
    "name": "ipython",
    "version": 3
   },
   "file_extension": ".py",
   "mimetype": "text/x-python",
   "name": "python",
   "nbconvert_exporter": "python",
   "pygments_lexer": "ipython3",
   "version": "3.8.3"
  }
 },
 "nbformat": 4,
 "nbformat_minor": 4
}
