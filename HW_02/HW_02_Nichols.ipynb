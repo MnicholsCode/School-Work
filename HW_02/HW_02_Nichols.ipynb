{
 "cells": [
  {
   "cell_type": "markdown",
   "metadata": {},
   "source": [
    "# COSC 130 - Homework 2\n",
    "\n",
    "### Malcolm Nichols"
   ]
  },
  {
   "cell_type": "markdown",
   "metadata": {},
   "source": [
    "## Problem 1: Altering Lists"
   ]
  },
  {
   "cell_type": "code",
   "execution_count": 1,
   "metadata": {},
   "outputs": [],
   "source": [
    "employees = [\"Beth\", \"Fred\", \"Drew\", \"Alex\", \"Emma\", \"Chad\"]\n",
    "years = [15, 11, 8, 5, 4, 2]"
   ]
  },
  {
   "cell_type": "code",
   "execution_count": 2,
   "metadata": {},
   "outputs": [
    {
     "name": "stdout",
     "output_type": "stream",
     "text": [
      "['Beth', 'Fred', 'Gina', 'Drew', 'Alex', 'Emma', 'Herb', 'Chad', 'Iris']\n",
      "[15, 11, 12, 8, 5, 4, 3, 2, 0]\n"
     ]
    }
   ],
   "source": [
    "employees.insert(2, \"Gina\")\n",
    "employees.insert(6, \"Herb\")\n",
    "employees.append(\"Iris\")\n",
    "\n",
    "years.insert(2, 12)\n",
    "years.insert(6, 3)\n",
    "years.append(0)\n",
    "\n",
    "print(employees)\n",
    "print(years)"
   ]
  },
  {
   "cell_type": "code",
   "execution_count": 3,
   "metadata": {},
   "outputs": [
    {
     "name": "stdout",
     "output_type": "stream",
     "text": [
      "['Beth', 'Gina', 'Drew', 'Emma', 'Alex', 'Herb', 'Chad', 'Iris']\n",
      "[15, 12, 8, 6, 5, 3, 2, 0]\n"
     ]
    }
   ],
   "source": [
    "employees.remove(\"Fred\")\n",
    "years.remove(11)\n",
    "\n",
    "employees[3] = \"Emma\"\n",
    "employees[4] = \"Alex\"\n",
    "\n",
    "years[3] = 6\n",
    "years[4] = 5\n",
    "\n",
    "print(employees)\n",
    "print(years)"
   ]
  },
  {
   "cell_type": "markdown",
   "metadata": {},
   "source": [
    "## Problem 2: Sorting and Slicing Lists"
   ]
  },
  {
   "cell_type": "code",
   "execution_count": 4,
   "metadata": {},
   "outputs": [],
   "source": [
    "import random\n",
    "random.seed(12)\n",
    "random_list = random.sample(range(500),99)"
   ]
  },
  {
   "cell_type": "code",
   "execution_count": 5,
   "metadata": {},
   "outputs": [
    {
     "name": "stdout",
     "output_type": "stream",
     "text": [
      "Length of random_list: 99\n",
      "First 10 Elements of random_list: [242, 137, 336, 270, 341, 179, 73, 195, 5, 191]\n"
     ]
    }
   ],
   "source": [
    "print(\"Length of random_list: \" + str(len(random_list)) + \"\\nFirst 10 Elements of random_list: \" + str(random_list[0:10]))\n"
   ]
  },
  {
   "cell_type": "code",
   "execution_count": 6,
   "metadata": {},
   "outputs": [
    {
     "name": "stdout",
     "output_type": "stream",
     "text": [
      "The sum of the elements in random list is 23739.\n"
     ]
    }
   ],
   "source": [
    "print(\"The sum of the elements in random list is \", sum(random_list), \".\", sep=\"\")"
   ]
  },
  {
   "cell_type": "code",
   "execution_count": 7,
   "metadata": {},
   "outputs": [
    {
     "name": "stdout",
     "output_type": "stream",
     "text": [
      "First 10 Elements of sorted_list: [0, 5, 9, 15, 26, 30, 31, 38, 42, 44]\n",
      "First 10 Elements of random_list: [242, 137, 336, 270, 341, 179, 73, 195, 5, 191]\n"
     ]
    }
   ],
   "source": [
    "sorted_list = sorted(random_list)\n",
    "print(\"First 10 Elements of sorted_list: \" + str(sorted_list[0:10]))\n",
    "print(\"First 10 Elements of random_list: \" + str(random_list[0:10]))"
   ]
  },
  {
   "cell_type": "code",
   "execution_count": 8,
   "metadata": {},
   "outputs": [
    {
     "name": "stdout",
     "output_type": "stream",
     "text": [
      "The smallest element of bot_slice is 0.\n",
      "The largest element of bot_slice is 173.\n",
      "\n",
      "The smallest element of mid_slice is 179.\n",
      "The largest element of mid_slice is 311.\n",
      "\n",
      "The smallest element of top_slice is 318.\n",
      "The largest element of top_slice is 484.\n"
     ]
    }
   ],
   "source": [
    "#Lists created with the slicing of the sorted_list\n",
    "bot_slice = sorted_list[0:33]\n",
    "mid_slice = sorted_list[33:66]\n",
    "top_slice = sorted_list[66:99]\n",
    "\n",
    "#Printing the min/max values for each slice\n",
    "print(\"The smallest element of bot_slice is \", min(bot_slice), \".\", sep=\"\")\n",
    "print(\"The largest element of bot_slice is \", max(bot_slice), \".\", sep=\"\")\n",
    "print()\n",
    "print(\"The smallest element of mid_slice is \", min(mid_slice), \".\", sep=\"\")\n",
    "print(\"The largest element of mid_slice is \", max(mid_slice), \".\", sep=\"\")\n",
    "print()\n",
    "print(\"The smallest element of top_slice is \", min(top_slice), \".\", sep=\"\")\n",
    "print(\"The largest element of top_slice is \", max(top_slice), \".\", sep=\"\")"
   ]
  },
  {
   "cell_type": "markdown",
   "metadata": {},
   "source": [
    "## Problem 3: Magnitude of a Vector"
   ]
  },
  {
   "cell_type": "code",
   "execution_count": 9,
   "metadata": {},
   "outputs": [
    {
     "name": "stdout",
     "output_type": "stream",
     "text": [
      "20.2485\n"
     ]
    }
   ],
   "source": [
    "vector = [11, 6, -8, 4, -13, 2]\n",
    "\n",
    "#loop to square and sum each index\n",
    "mag_v = 0\n",
    "for i in vector:\n",
    "    mag_v += (i**2)\n",
    "\n",
    "#square root the sum value and print\n",
    "mag_v = mag_v**0.5 \n",
    "print(round(mag_v,4))"
   ]
  },
  {
   "cell_type": "code",
   "execution_count": 10,
   "metadata": {},
   "outputs": [
    {
     "name": "stdout",
     "output_type": "stream",
     "text": [
      "[0.5433, 0.2963, -0.3951, 0.1975, -0.642, 0.0988]\n"
     ]
    }
   ],
   "source": [
    "#Unit vector\n",
    "unit_vector =[i/mag_v for i in vector]\n",
    "rounded_unit_vector = [round(i,4) for i in unit_vector]\n",
    "\n",
    "print(rounded_unit_vector)"
   ]
  },
  {
   "cell_type": "code",
   "execution_count": 11,
   "metadata": {},
   "outputs": [
    {
     "name": "stdout",
     "output_type": "stream",
     "text": [
      "1.0\n"
     ]
    }
   ],
   "source": [
    "#Mag of unit_vector\n",
    "mag_u = 0\n",
    "for i in unit_vector:\n",
    "    mag_u += (i**2)\n",
    "mag_u = mag_u**0.5\n",
    "print(mag_u)"
   ]
  },
  {
   "cell_type": "markdown",
   "metadata": {},
   "source": [
    "## Problem 4: Fibonacci Sequence"
   ]
  },
  {
   "cell_type": "code",
   "execution_count": 12,
   "metadata": {},
   "outputs": [
    {
     "name": "stdout",
     "output_type": "stream",
     "text": [
      "[0, 1, 1, 2, 3, 5, 8, 13, 21, 34, 55, 89, 144, 233, 377, 610, 987, 1597, 2584, 4181, 6765, 10946, 17711, 28657, 46368, 75025, 121393, 196418, 317811, 514229]\n"
     ]
    }
   ],
   "source": [
    "fib = [0, 1]\n",
    "\n",
    "for i in range(0,28):\n",
    "    fib.append(fib[i]+fib[i+1])\n",
    "print(fib)"
   ]
  },
  {
   "cell_type": "markdown",
   "metadata": {},
   "source": [
    "## Problem 5: Printing a Table"
   ]
  },
  {
   "cell_type": "code",
   "execution_count": 13,
   "metadata": {},
   "outputs": [
    {
     "name": "stdout",
     "output_type": "stream",
     "text": [
      "First\t  Last\t    Major\t\t Credits     GPA\n",
      "--------------------------------------------------------\n",
      "Anna      Anderson  Mathematics              110    3.56\n",
      "Beatrice  Brown     Data Science              83    3.24\n",
      "Charles   Clark     Biology                   64    3.87\n",
      "David     Daniels   Chemistry                 35    2.83\n",
      "Emma      Edwards   Computer Science         104    3.61\n"
     ]
    }
   ],
   "source": [
    "first = [\"Anna\", \"Beatrice\", \"Charles\", \"David\", \"Emma\"]\n",
    "last = [\"Anderson\", \"Brown\", \"Clark\", \"Daniels\", \"Edwards\"]\n",
    "major = [\"Mathematics\", \"Data Science\", \"Biology\", \"Chemistry\", \"Computer Science\"]\n",
    "credits = [110, 83, 64, 35, 104]\n",
    "gpa = [3.56, 3.24, 3.87, 2.83, 3.61]\n",
    "\n",
    "print(\"First\\t  Last\\t    Major\\t\\t Credits     GPA\")\n",
    "print(\"-\"*56)\n",
    "for i in range(0,5):\n",
    "    print(f'{first[i]:<10}{last[i]:<10}{major[i]:<20}{credits[i]:>8}{gpa[i]:>8}')"
   ]
  },
  {
   "cell_type": "markdown",
   "metadata": {},
   "source": [
    "## Problem 6: Calculating Sum of Squared Errors"
   ]
  },
  {
   "cell_type": "code",
   "execution_count": 14,
   "metadata": {},
   "outputs": [],
   "source": [
    "length = [22.7, 22.4, 25.8, 21.3, 20.1, 22.1, 21.1, 25.3, 26.9, 26.9,\n",
    "          23.0, 23.8, 26.2, 20.4, 23.0, 21.9, 23.5, 27.8, 25.3, 25.9]\n",
    "weight =[9.2, 8.8, 10.7, 8.3, 6.2, 8.6, 7.2, 11.2, 10.5, 11.3,\n",
    "         9.6, 9.9, 10.9, 5.9, 9.5, 9.1, 9.7, 11.6, 10.2, 10.5]"
   ]
  },
  {
   "cell_type": "code",
   "execution_count": 15,
   "metadata": {},
   "outputs": [
    {
     "name": "stdout",
     "output_type": "stream",
     "text": [
      "[8.419999999999998, 8.239999999999998, 10.280000000000001, 7.579999999999999, 6.86, 8.059999999999999, 7.46, 9.98, 10.939999999999998, 10.939999999999998, 8.599999999999998, 9.079999999999998, 10.52, 7.039999999999998, 8.599999999999998, 7.939999999999999, 8.899999999999999, 11.48, 9.98, 10.34]\n"
     ]
    }
   ],
   "source": [
    "pred_weight = []\n",
    "M = len(weight)\n",
    "for i in range(0, M):\n",
    "    temp = 0.6 * length[i] - 5.2\n",
    "    pred_weight.append(temp)\n",
    "print(pred_weight)"
   ]
  },
  {
   "cell_type": "code",
   "execution_count": 16,
   "metadata": {},
   "outputs": [
    {
     "name": "stdout",
     "output_type": "stream",
     "text": [
      "10.2236\n"
     ]
    }
   ],
   "source": [
    "SSE = 0\n",
    "for i in range(0, M):\n",
    "    diff = weight[i] - pred_weight[i]\n",
    "    square_diff = diff**2\n",
    "    SSE += square_diff\n",
    "print(round(SSE,4))"
   ]
  },
  {
   "cell_type": "markdown",
   "metadata": {},
   "source": [
    "## Problem 7: Determining Monthly Payments"
   ]
  },
  {
   "cell_type": "code",
   "execution_count": 17,
   "metadata": {},
   "outputs": [
    {
     "name": "stdout",
     "output_type": "stream",
     "text": [
      "A loan of $100000.00 would require monthly payments of $524.67.\n",
      "A loan of $110000.00 would require monthly payments of $577.13.\n",
      "A loan of $120000.00 would require monthly payments of $629.60.\n",
      "A loan of $130000.00 would require monthly payments of $682.06.\n",
      "A loan of $140000.00 would require monthly payments of $734.53.\n",
      "A loan of $150000.00 would require monthly payments of $787.00.\n",
      "A loan of $160000.00 would require monthly payments of $839.46.\n",
      "A loan of $170000.00 would require monthly payments of $891.93.\n",
      "A loan of $180000.00 would require monthly payments of $944.40.\n",
      "A loan of $190000.00 would require monthly payments of $996.86.\n",
      "A loan of $200000.00 would require monthly payments of $1049.33.\n"
     ]
    }
   ],
   "source": [
    "i = 0.004\n",
    "n = 360\n",
    "start = 100000\n",
    "increment = 10000\n",
    "\n",
    "new_loan = 0\n",
    "for j in range(0,11):\n",
    "    new_loan = start\n",
    "    start += increment\n",
    "    monthly_payment = new_loan / ((1-(1+i)**-n)/i)\n",
    "#   print(new_loan)\n",
    "    print(f\"A loan of ${new_loan:.2f} would require monthly payments of ${monthly_payment:.2f}.\")"
   ]
  },
  {
   "cell_type": "markdown",
   "metadata": {},
   "source": [
    "## Problem 8: Adding Matrices"
   ]
  },
  {
   "cell_type": "code",
   "execution_count": 18,
   "metadata": {},
   "outputs": [],
   "source": [
    "A = [[13, 43, 28, 22, 41], [17, 39, 46, 16, 21], [41, 34, 31, 25, 14]]\n",
    "B = [[35, 29, 43, 21, 31], [48, 26, 19, 17, 23], [32, 34, 24, 16, 27]]"
   ]
  },
  {
   "cell_type": "code",
   "execution_count": 19,
   "metadata": {},
   "outputs": [
    {
     "name": "stdout",
     "output_type": "stream",
     "text": [
      "[48, 72, 71, 43, 72]\n",
      "[65, 65, 65, 33, 44]\n",
      "[73, 68, 55, 41, 41]\n"
     ]
    }
   ],
   "source": [
    "AplusB = []\n",
    "\n",
    "for i in range(len(A)):\n",
    "    temp = []\n",
    "    for j in range(len(A[i])):\n",
    "        temp.append(A[i][j] + B[i][j])\n",
    "    AplusB.append(temp)\n",
    "\n",
    "for row in AplusB:\n",
    "    print(row)\n",
    "        "
   ]
  }
 ],
 "metadata": {
  "kernelspec": {
   "display_name": "Python 3",
   "language": "python",
   "name": "python3"
  },
  "language_info": {
   "codemirror_mode": {
    "name": "ipython",
    "version": 3
   },
   "file_extension": ".py",
   "mimetype": "text/x-python",
   "name": "python",
   "nbconvert_exporter": "python",
   "pygments_lexer": "ipython3",
   "version": "3.8.3"
  }
 },
 "nbformat": 4,
 "nbformat_minor": 4
}
