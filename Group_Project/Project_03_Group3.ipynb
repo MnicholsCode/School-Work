{
 "cells": [
  {
   "cell_type": "markdown",
   "metadata": {},
   "source": [
    "# COSC - Group Project\n",
    "\n",
    "### Group 3\n",
    "\n",
    "**Malcolm Nichols, Alaysia Cancer, Corey Young**"
   ]
  },
  {
   "cell_type": "markdown",
   "metadata": {},
   "source": [
    "## Introduction\n",
    "Using this Notebook, we have created a DFrame class called DFrame.py. The objective of this project is to demonstrate what the DFrame class can do."
   ]
  },
  {
   "cell_type": "code",
   "execution_count": 1,
   "metadata": {},
   "outputs": [],
   "source": [
    "%run -i DFrame.py"
   ]
  },
  {
   "cell_type": "markdown",
   "metadata": {},
   "source": [
    "## Nonsense Dataset\n",
    "\n",
    "Now we will test the DFrame class on an example of meaningless values. Start by creating the DFrame instance."
   ]
  },
  {
   "cell_type": "code",
   "execution_count": 2,
   "metadata": {},
   "outputs": [],
   "source": [
    "my_dict = {\n",
    " 'x1': [12, 15, 18, 13, 15, 20],\n",
    " 'x2': ['dog', 'aardvark', 'buffalo', 'cat', 'elephant', 'fish'],\n",
    " 'x3': [1.8025, 4.61, 1.347, 4.7, 2.809, 3.6185]\n",
    "}\n",
    "\n",
    "df = DFrame(my_dict)"
   ]
  },
  {
   "cell_type": "code",
   "execution_count": 3,
   "metadata": {},
   "outputs": [
    {
     "name": "stdout",
     "output_type": "stream",
     "text": [
      "[6, 3]\n"
     ]
    }
   ],
   "source": [
    "print(df.size)"
   ]
  },
  {
   "cell_type": "markdown",
   "metadata": {},
   "source": [
    "We will now test the sort_by() method."
   ]
  },
  {
   "cell_type": "code",
   "execution_count": 4,
   "metadata": {},
   "outputs": [
    {
     "name": "stdout",
     "output_type": "stream",
     "text": [
      "| x1 | x2       | x3     | \n",
      "--------------------------\n",
      "| 12 | dog      | 1.8025 | \n",
      "| 13 | cat      | 4.7    | \n",
      "| 15 | aardvark | 4.61   | \n",
      "| 15 | elephant | 2.809  | \n",
      "| 18 | buffalo  | 1.347  | \n",
      "| 20 | fish     | 3.6185 | \n",
      "\n"
     ]
    }
   ],
   "source": [
    "print(df.sort_by('x1'))"
   ]
  },
  {
   "cell_type": "code",
   "execution_count": 5,
   "metadata": {},
   "outputs": [
    {
     "name": "stdout",
     "output_type": "stream",
     "text": [
      "| x1 | x2       | x3     | \n",
      "--------------------------\n",
      "| 12 | dog      | 1.8025 | \n",
      "| 13 | cat      | 4.7    | \n",
      "| 15 | aardvark | 4.61   | \n",
      "| 15 | elephant | 2.809  | \n",
      "| 18 | buffalo  | 1.347  | \n",
      "| 20 | fish     | 3.6185 | \n",
      "\n"
     ]
    }
   ],
   "source": [
    "print(df.sort_by(0))"
   ]
  },
  {
   "cell_type": "code",
   "execution_count": 6,
   "metadata": {
    "scrolled": true
   },
   "outputs": [
    {
     "name": "stdout",
     "output_type": "stream",
     "text": [
      "| x1 | x2       | x3     | \n",
      "--------------------------\n",
      "| 13 | cat      | 4.7    | \n",
      "| 15 | aardvark | 4.61   | \n",
      "| 20 | fish     | 3.6185 | \n",
      "| 15 | elephant | 2.809  | \n",
      "| 12 | dog      | 1.8025 | \n",
      "| 18 | buffalo  | 1.347  | \n",
      "\n"
     ]
    }
   ],
   "source": [
    "print(df.sort_by('x3', reverse=True))"
   ]
  },
  {
   "cell_type": "markdown",
   "metadata": {},
   "source": [
    "We will now display the first 3 rows in the DFrame to confirm nothing has changed in the original DFrame."
   ]
  },
  {
   "cell_type": "code",
   "execution_count": 7,
   "metadata": {
    "scrolled": true
   },
   "outputs": [
    {
     "name": "stdout",
     "output_type": "stream",
     "text": [
      "| x1 | x2       | x3     | \n",
      "--------------------------\n",
      "| 12 | dog      | 1.8025 | \n",
      "| 15 | aardvark | 4.61   | \n",
      "| 18 | buffalo  | 1.347  | \n",
      "\n"
     ]
    }
   ],
   "source": [
    "print(df.head(3))"
   ]
  },
  {
   "cell_type": "markdown",
   "metadata": {},
   "source": [
    "We will now test the filter() method."
   ]
  },
  {
   "cell_type": "code",
   "execution_count": 8,
   "metadata": {},
   "outputs": [
    {
     "name": "stdout",
     "output_type": "stream",
     "text": [
      "| x1 | x2       | x3    | \n",
      "-------------------------\n",
      "| 15 | aardvark | 4.61  | \n",
      "| 18 | buffalo  | 1.347 | \n",
      "\n"
     ]
    }
   ],
   "source": [
    "print(df.filter('x2', '<', 'c'))"
   ]
  },
  {
   "cell_type": "code",
   "execution_count": 9,
   "metadata": {},
   "outputs": [
    {
     "name": "stdout",
     "output_type": "stream",
     "text": [
      "| x1 | x2       | x3     | \n",
      "--------------------------\n",
      "| 12 | dog      | 1.8025 | \n",
      "| 15 | elephant | 2.809  | \n",
      "| 20 | fish     | 3.6185 | \n",
      "\n"
     ]
    }
   ],
   "source": [
    "print(df.filter('x2', '>', 'd'))"
   ]
  },
  {
   "cell_type": "code",
   "execution_count": 10,
   "metadata": {},
   "outputs": [
    {
     "name": "stdout",
     "output_type": "stream",
     "text": [
      "| x1 | x2       | x3     | \n",
      "--------------------------\n",
      "| 12 | dog      | 1.8025 | \n",
      "| 15 | aardvark | 4.61   | \n",
      "| 13 | cat      | 4.7    | \n",
      "| 15 | elephant | 2.809  | \n",
      "\n"
     ]
    }
   ],
   "source": [
    "print(df.filter(0, '<=', 15))"
   ]
  },
  {
   "cell_type": "code",
   "execution_count": 11,
   "metadata": {},
   "outputs": [
    {
     "name": "stdout",
     "output_type": "stream",
     "text": [
      "| x1 | x2       | x3     | \n",
      "--------------------------\n",
      "| 15 | aardvark | 4.61   | \n",
      "| 18 | buffalo  | 1.347  | \n",
      "| 15 | elephant | 2.809  | \n",
      "| 20 | fish     | 3.6185 | \n",
      "\n"
     ]
    }
   ],
   "source": [
    "print(df.filter(0, '>=', 15))"
   ]
  },
  {
   "cell_type": "code",
   "execution_count": 12,
   "metadata": {},
   "outputs": [
    {
     "name": "stdout",
     "output_type": "stream",
     "text": [
      "| x1 | x2       | x3    | \n",
      "-------------------------\n",
      "| 15 | aardvark | 4.61  | \n",
      "| 15 | elephant | 2.809 | \n",
      "\n"
     ]
    }
   ],
   "source": [
    "print(df.filter(0, '==', 15))"
   ]
  },
  {
   "cell_type": "markdown",
   "metadata": {},
   "source": [
    "We will now test the mean() method."
   ]
  },
  {
   "cell_type": "code",
   "execution_count": 13,
   "metadata": {
    "scrolled": true
   },
   "outputs": [
    {
     "name": "stdout",
     "output_type": "stream",
     "text": [
      "| x1   | x3         | \n",
      "---------------------\n",
      "| 15.5 | 3.14783333 | \n",
      "\n"
     ]
    }
   ],
   "source": [
    "print(df.mean([0,2]))"
   ]
  },
  {
   "cell_type": "markdown",
   "metadata": {},
   "source": [
    "We will now test the add_row(), del_row(), add_col(), and del_col() methods."
   ]
  },
  {
   "cell_type": "code",
   "execution_count": 14,
   "metadata": {},
   "outputs": [
    {
     "name": "stdout",
     "output_type": "stream",
     "text": [
      "| x1 | x2       | x4     | \n",
      "--------------------------\n",
      "| 12 | dog      | 12345  | \n",
      "| 13 | cat      | 123    | \n",
      "| 15 | elephant | 1234   | \n",
      "| 20 | fish     | 1      | \n",
      "| 14 | gorilla  | 123456 | \n",
      "| 19 | horse    | 12     | \n",
      "\n"
     ]
    }
   ],
   "source": [
    "df.add_row([14, 'gorilla', 3.142])\n",
    "df.del_row(1)\n",
    "df.del_row(1)\n",
    "df.del_col('x3')\n",
    "df.add_row([19, 'horse'])\n",
    "df.add_col('x4', [12345, 123, 1234, 1, 123456, 12])\n",
    "print(df)"
   ]
  },
  {
   "cell_type": "markdown",
   "metadata": {},
   "source": [
    "## Iris Dataset\n",
    "\n",
    "We will now test the DFrame class on the Iris Dataset."
   ]
  },
  {
   "cell_type": "code",
   "execution_count": 15,
   "metadata": {},
   "outputs": [
    {
     "name": "stdout",
     "output_type": "stream",
     "text": [
      "| sepal_length | sepal_width | petal_length | petal_width | species    | \n",
      "------------------------------------------------------------------------\n",
      "| 5.5          | 4.2         | 1.4          | 0.2         | setosa     | \n",
      "| 5.6          | 3.0         | 4.5          | 1.5         | versicolor | \n",
      "| 7.2          | 3.6         | 6.1          | 2.5         | virginica  | \n",
      "| 4.8          | 3.0         | 1.4          | 0.3         | setosa     | \n",
      "| 5.5          | 2.4         | 3.8          | 1.1         | versicolor | \n",
      "| 5.8          | 2.7         | 3.9          | 1.2         | versicolor | \n",
      "\n"
     ]
    }
   ],
   "source": [
    "iris = read_file_to_dframe('iris.txt', [float, float, float, float, str], '\\t')\n",
    "\n",
    "print(iris.head())"
   ]
  },
  {
   "cell_type": "markdown",
   "metadata": {},
   "source": [
    "We will now check the number of rows and columns in the Irish DFrame."
   ]
  },
  {
   "cell_type": "code",
   "execution_count": 16,
   "metadata": {},
   "outputs": [
    {
     "name": "stdout",
     "output_type": "stream",
     "text": [
      "[150, 5]\n"
     ]
    }
   ],
   "source": [
    "print(iris.size)"
   ]
  },
  {
   "cell_type": "markdown",
   "metadata": {},
   "source": [
    "We will now use mean to calculate the first five averages of the first four columns in the DFrame."
   ]
  },
  {
   "cell_type": "code",
   "execution_count": 17,
   "metadata": {},
   "outputs": [
    {
     "name": "stdout",
     "output_type": "stream",
     "text": [
      "| sepal_length | sepal_width | petal_length | petal_width | \n",
      "-----------------------------------------------------------\n",
      "| 5.84333333   | 3.05733333  | 3.758        | 1.19933333  | \n",
      "\n"
     ]
    }
   ],
   "source": [
    "print(iris.mean([0,1,2,3]))"
   ]
  },
  {
   "cell_type": "markdown",
   "metadata": {},
   "source": [
    "We will now use filter and mean methods to calculate the average value of the first four columns in the DFrame for each of the three species of flower."
   ]
  },
  {
   "cell_type": "code",
   "execution_count": 18,
   "metadata": {},
   "outputs": [
    {
     "name": "stdout",
     "output_type": "stream",
     "text": [
      "| sepal_length | sepal_width | petal_length | petal_width | \n",
      "-----------------------------------------------------------\n",
      "| 5.006        | 3.428       | 1.462        | 0.246       | \n",
      "\n"
     ]
    }
   ],
   "source": [
    "print(iris.filter('species', '==', 'setosa').mean([0,1,2,3]))"
   ]
  },
  {
   "cell_type": "code",
   "execution_count": 19,
   "metadata": {},
   "outputs": [
    {
     "name": "stdout",
     "output_type": "stream",
     "text": [
      "| sepal_length | sepal_width | petal_length | petal_width | \n",
      "-----------------------------------------------------------\n",
      "| 5.936        | 2.77        | 4.26         | 1.326       | \n",
      "\n"
     ]
    }
   ],
   "source": [
    "print(iris.filter('species', '==', 'versicolor').mean([0,1,2,3]))"
   ]
  },
  {
   "cell_type": "code",
   "execution_count": 20,
   "metadata": {},
   "outputs": [
    {
     "name": "stdout",
     "output_type": "stream",
     "text": [
      "| sepal_length | sepal_width | petal_length | petal_width | \n",
      "-----------------------------------------------------------\n",
      "| 6.588        | 2.974       | 5.552        | 2.026       | \n",
      "\n"
     ]
    }
   ],
   "source": [
    "print(iris.filter('species', '==', 'virginica').mean([0,1,2,3]))"
   ]
  },
  {
   "cell_type": "markdown",
   "metadata": {},
   "source": [
    "## Titanic Dataset\n",
    "\n",
    "This will test the DFrame class on the titanic dataset."
   ]
  },
  {
   "cell_type": "code",
   "execution_count": 21,
   "metadata": {},
   "outputs": [
    {
     "name": "stdout",
     "output_type": "stream",
     "text": [
      "| Survived | Pclass | Name                                               | Sex    | Age  | Fare    | \n",
      "----------------------------------------------------------------------------------------------------\n",
      "| 0        | 3      | Mr. Owen Harris Braund                             | male   | 22.0 | 7.25    | \n",
      "| 1        | 1      | Mrs. John Bradley (Florence Briggs Thayer) Cumings | female | 38.0 | 71.2833 | \n",
      "| 1        | 3      | Miss. Laina Heikkinen                              | female | 26.0 | 7.925   | \n",
      "| 1        | 1      | Mrs. Jacques Heath (Lily May Peel) Futrelle        | female | 35.0 | 53.1    | \n",
      "| 0        | 3      | Mr. William Henry Allen                            | male   | 35.0 | 8.05    | \n",
      "| 0        | 3      | Mr. James Moran                                    | male   | 27.0 | 8.4583  | \n",
      "| 0        | 1      | Mr. Timothy J McCarthy                             | male   | 54.0 | 51.8625 | \n",
      "| 0        | 3      | Master. Gosta Leonard Palsson                      | male   | 2.0  | 21.075  | \n",
      "| 1        | 3      | Mrs. Oscar W (Elisabeth Vilhelmina Berg) Johnson   | female | 27.0 | 11.1333 | \n",
      "| 1        | 2      | Mrs. Nicholas (Adele Achem) Nasser                 | female | 14.0 | 30.0708 | \n",
      "\n"
     ]
    }
   ],
   "source": [
    "titanic = read_file_to_dframe('titanic.txt', [int, int, str, str, float, float], '\\t')\n",
    "\n",
    "print(titanic.head(10))"
   ]
  },
  {
   "cell_type": "markdown",
   "metadata": {},
   "source": [
    "We will now check the size of the row and columns in the titanic DFrame."
   ]
  },
  {
   "cell_type": "code",
   "execution_count": 22,
   "metadata": {},
   "outputs": [
    {
     "name": "stdout",
     "output_type": "stream",
     "text": [
      "[887, 6]\n"
     ]
    }
   ],
   "source": [
    "print(titanic.size)"
   ]
  },
  {
   "cell_type": "markdown",
   "metadata": {},
   "source": [
    "We will now use the sort_by method to determine the ages of the 10 youngest passengers on the titanic as well as the ages of the 10 oldest passengers of the titanic."
   ]
  },
  {
   "cell_type": "code",
   "execution_count": 23,
   "metadata": {},
   "outputs": [
    {
     "name": "stdout",
     "output_type": "stream",
     "text": [
      "| Survived | Pclass | Name                           | Sex    | Age  | Fare    | \n",
      "--------------------------------------------------------------------------------\n",
      "| 1        | 3      | Master. Assad Alexander Thomas | male   | 0.42 | 8.5167  | \n",
      "| 1        | 2      | Master. Viljo Hamalainen       | male   | 0.67 | 14.5    | \n",
      "| 1        | 3      | Miss. Helene Barbara Baclini   | female | 0.75 | 19.2583 | \n",
      "| 1        | 3      | Miss. Eugenie Baclini          | female | 0.75 | 19.2583 | \n",
      "| 1        | 2      | Master. Alden Gates Caldwell   | male   | 0.83 | 29.0    | \n",
      "| 1        | 2      | Master. George Sibley Richards | male   | 0.83 | 18.75   | \n",
      "| 1        | 1      | Master. Hudson Trevor Allison  | male   | 0.92 | 151.55  | \n",
      "| 0        | 3      | Master. Eino Viljami Panula    | male   | 1.0  | 39.6875 | \n",
      "| 1        | 3      | Miss. Eleanor Ileen Johnson    | female | 1.0  | 11.1333 | \n",
      "| 1        | 2      | Master. Richard F Becker       | male   | 1.0  | 39.0    | \n",
      "\n"
     ]
    }
   ],
   "source": [
    "print(titanic.sort_by('Age').head(10))"
   ]
  },
  {
   "cell_type": "code",
   "execution_count": 24,
   "metadata": {},
   "outputs": [
    {
     "name": "stdout",
     "output_type": "stream",
     "text": [
      "| Survived | Pclass | Name                                | Sex  | Age  | Fare    | \n",
      "-----------------------------------------------------------------------------------\n",
      "| 1        | 1      | Mr. Algernon Henry Wilson Barkworth | male | 80.0 | 30.0    | \n",
      "| 0        | 3      | Mr. Johan Svensson                  | male | 74.0 | 7.775   | \n",
      "| 0        | 1      | Mr. Ramon Artagaveytia              | male | 71.0 | 49.5042 | \n",
      "| 0        | 1      | Mr. George B Goldschmidt            | male | 71.0 | 34.6542 | \n",
      "| 0        | 3      | Mr. Patrick Connors                 | male | 70.5 | 7.75    | \n",
      "| 0        | 1      | Capt. Edward Gifford Crosby         | male | 70.0 | 71.0    | \n",
      "| 0        | 2      | Mr. Henry Michael Mitchell          | male | 70.0 | 10.5    | \n",
      "| 0        | 3      | Mr. Samuel Beard Risien             | male | 69.0 | 14.5    | \n",
      "| 0        | 3      | Mr. James Webber                    | male | 66.0 | 8.05    | \n",
      "| 0        | 2      | Mr. Edward H Wheadon                | male | 66.0 | 10.5    | \n",
      "\n"
     ]
    }
   ],
   "source": [
    "print(titanic.sort_by('Age',reverse = True).head(10))"
   ]
  },
  {
   "cell_type": "markdown",
   "metadata": {},
   "source": [
    "We will now determine the survival rate for female passengers on the titanic, as well as the male passengers."
   ]
  },
  {
   "cell_type": "code",
   "execution_count": 25,
   "metadata": {},
   "outputs": [
    {
     "name": "stdout",
     "output_type": "stream",
     "text": [
      "| Survived   | \n",
      "--------------\n",
      "| 0.74203822 | \n",
      "\n"
     ]
    }
   ],
   "source": [
    "print(titanic.filter('Sex', '==', 'female').mean([0]))"
   ]
  },
  {
   "cell_type": "code",
   "execution_count": 26,
   "metadata": {},
   "outputs": [
    {
     "name": "stdout",
     "output_type": "stream",
     "text": [
      "| Survived   | \n",
      "--------------\n",
      "| 0.19022688 | \n",
      "\n"
     ]
    }
   ],
   "source": [
    "print(titanic.filter('Sex', '==', 'male').mean([0]))"
   ]
  },
  {
   "cell_type": "markdown",
   "metadata": {},
   "source": [
    "We will now determine the survival rates for passengers in each of the three passenger classes on the titanic."
   ]
  },
  {
   "cell_type": "code",
   "execution_count": 27,
   "metadata": {},
   "outputs": [
    {
     "name": "stdout",
     "output_type": "stream",
     "text": [
      "| Survived   | \n",
      "--------------\n",
      "| 0.62962963 | \n",
      "\n"
     ]
    }
   ],
   "source": [
    "print(titanic.filter('Pclass', '==', 1).mean([0]))"
   ]
  },
  {
   "cell_type": "code",
   "execution_count": 28,
   "metadata": {},
   "outputs": [
    {
     "name": "stdout",
     "output_type": "stream",
     "text": [
      "| Survived   | \n",
      "--------------\n",
      "| 0.47282609 | \n",
      "\n"
     ]
    }
   ],
   "source": [
    "print(titanic.filter('Pclass', '==', 2).mean([0]))"
   ]
  },
  {
   "cell_type": "code",
   "execution_count": 29,
   "metadata": {},
   "outputs": [
    {
     "name": "stdout",
     "output_type": "stream",
     "text": [
      "| Survived   | \n",
      "--------------\n",
      "| 0.24435318 | \n",
      "\n"
     ]
    }
   ],
   "source": [
    "print(titanic.filter('Pclass', '==', 3).mean([0]))"
   ]
  }
 ],
 "metadata": {
  "kernelspec": {
   "display_name": "Python 3",
   "language": "python",
   "name": "python3"
  },
  "language_info": {
   "codemirror_mode": {
    "name": "ipython",
    "version": 3
   },
   "file_extension": ".py",
   "mimetype": "text/x-python",
   "name": "python",
   "nbconvert_exporter": "python",
   "pygments_lexer": "ipython3",
   "version": "3.8.3"
  }
 },
 "nbformat": 4,
 "nbformat_minor": 4
}
