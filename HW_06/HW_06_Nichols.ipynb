{
 "cells": [
  {
   "cell_type": "markdown",
   "metadata": {},
   "source": [
    "# COSC 130 - Homework 06\n",
    "\n",
    "### Malcolm Nichols"
   ]
  },
  {
   "cell_type": "code",
   "execution_count": 1,
   "metadata": {},
   "outputs": [],
   "source": [
    "%run -i HW_06_Nichols.py"
   ]
  },
  {
   "cell_type": "code",
   "execution_count": 2,
   "metadata": {},
   "outputs": [],
   "source": [
    "import matplotlib.pyplot as plt\n",
    "import numpy as np"
   ]
  },
  {
   "cell_type": "markdown",
   "metadata": {},
   "source": [
    "## Problem 1: Testing the LinReg Class"
   ]
  },
  {
   "cell_type": "code",
   "execution_count": 3,
   "metadata": {},
   "outputs": [],
   "source": [
    "x = [8.3, 14.4, 0.0, 6.0, 2.9, 1.8, 3.7, 6.9, 7.9, 10.8, 8.4, 13.7, 4.1, 17.6, 0.5, 13.4,\n",
    "     8.3, 11.2, 2.8, 4.0, 16.0, 19.4, 6.3, 13.8, 17.5, 17.9, 1.7, 0.8, 3.4, 17.6, 2.0, 8.4,\n",
    "     19.2, 10.7, 13.8, 6.3, 13.7, 16.7, 0.4, 15.0, 19.8, 15.0, 5.6, 15.8, 2.1, 9.0, 18.2,\n",
    "     5.9, 5.8, 2.6, 0.4, 13.6, 4.2, 5.3, 9.8, 1.1, 11.5, 2.9, 11.8, 14.0, 2.0, 8.3, 13.9,\n",
    "     8.3, 1.0, 10.7, 13.3, 10.3, 18.9, 11.7, 18.1, 2.7, 2.8, 16.1, 8.0, 3.3, 18.6, 7.0,\n",
    "     15.0, 14.5]\n",
    "\n",
    "y = [95.5, 79.7, 113.9, 120.6, 121.9, 113.5, 118.2, 95.8, 110.8, 105.1, 125.8, 46.1, 85.7,\n",
    "     44.2, 126.3, 83.7, 96.0, 46.7, 109.3, 122.6, 62.4, 56.9, 96.1, 64.6, 55.4, 57.4, 122.0,\n",
    "     124.6, 101.0, 58.3, 119.7, 108.7, 64.7, 84.2, 61.9, 89.3, 75.1, 57.1, 119.0, 63.7,\n",
    "     33.0, 74.3, 95.3, 79.3, 123.8, 97.9, 32.2, 104.0, 113.7, 99.8, 120.1, 69.5, 86.3,\n",
    "     108.7, 98.2, 107.8, 83.4, 92.7, 75.9, 41.4, 135.3, 97.8, 67.3, 78.8, 142.2, 112.5,\n",
    "     40.5, 102.5, 72.7, 82.1, 30.9, 128.3, 111.4, 48.5, 72.9, 120.9, 60.8, 86.8, 71.3, 46.7]\n"
   ]
  },
  {
   "cell_type": "code",
   "execution_count": 4,
   "metadata": {},
   "outputs": [
    {
     "data": {
      "image/png": "[encoded data removed]",
      "text/plain": [
       "<Figure size 432x288 with 1 Axes>"
      ]
     },
     "metadata": {
      "needs_background": "light"
     },
     "output_type": "display_data"
    }
   ],
   "source": [
    "plt.scatter(x = x, y = y, s = 40, color = 'orchid', edgecolor = 'k', alpha = 0.6)\n",
    "plt.xlim([-2,22])\n",
    "plt.ylim([0,150])\n",
    "plt.show()"
   ]
  },
  {
   "cell_type": "code",
   "execution_count": 5,
   "metadata": {},
   "outputs": [
    {
     "name": "stdout",
     "output_type": "stream",
     "text": [
      "Intercept: 126.01202514329695\n",
      "Slope:     -4.060522663446472\n",
      "1.0\n"
     ]
    }
   ],
   "source": [
    "model = LinReg(x,y)\n",
    "model.display_model()\n",
    "print(model.score(x,y))"
   ]
  },
  {
   "cell_type": "code",
   "execution_count": 6,
   "metadata": {},
   "outputs": [
    {
     "name": "stdout",
     "output_type": "stream",
     "text": [
      "[117.89097982  97.5883665   89.46732117  73.22523052  61.04366253\n",
      "  52.9226172 ]\n"
     ]
    }
   ],
   "source": [
    "x_test = [2, 7, 9, 13, 16, 18]\n",
    "y_test = [101, 104, 74, 67, 71, 43]\n",
    "\n",
    "print(model.predict(x_test))"
   ]
  },
  {
   "cell_type": "code",
   "execution_count": 7,
   "metadata": {},
   "outputs": [
    {
     "name": "stdout",
     "output_type": "stream",
     "text": [
      "[134.13307047  36.68052655]\n"
     ]
    }
   ],
   "source": [
    "x_line =[-2, 22]\n",
    "y_line=model.predict(x_line)\n",
    "print(y_line)"
   ]
  },
  {
   "cell_type": "code",
   "execution_count": 8,
   "metadata": {},
   "outputs": [
    {
     "data": {
      "image/png": "[encoded data removed]",
      "text/plain": [
       "<Figure size 432x288 with 1 Axes>"
      ]
     },
     "metadata": {
      "needs_background": "light"
     },
     "output_type": "display_data"
    }
   ],
   "source": [
    "plt.scatter(x = x, y = y, s = 60, color = 'orchid', edgecolor = 'k', alpha = 0.6)\n",
    "plt.plot(x_line, y_line, c='crimson', lw=2)\n",
    "plt.xlim([-2,22])\n",
    "plt.ylim([0,150])\n",
    "plt.show()"
   ]
  },
  {
   "cell_type": "markdown",
   "metadata": {},
   "source": [
    "## Problem 2: Testing the ATM Class"
   ]
  },
  {
   "cell_type": "code",
   "execution_count": 9,
   "metadata": {},
   "outputs": [
    {
     "name": "stdout",
     "output_type": "stream",
     "text": [
      "Withdrawal of $150 complete.\n",
      "Hello, Malcolm. Your current balance is: $190\n",
      "\n",
      "Withdrawal of $75 complete.\n",
      "Hello, Malcolm. Your current balance is: $115\n",
      "\n",
      "Deposit of $100 complete.\n",
      "Hello, Malcolm. Your current balance is: $215\n",
      "\n",
      "Withdrawal of $150 complete.\n",
      "Hello, Malcolm. Your current balance is: $65\n",
      "\n",
      "Withdrawal of $120 failed. Insufficient funds.\n",
      "Hello, Malcolm. Your current balance is: $65\n",
      "\n",
      "Withdrawal of $65 complete.\n",
      "Hello, Malcolm. Your current balance is: $0\n",
      "\n",
      "Deposit of $50 complete.\n",
      "Hello, Malcolm. Your current balance is: $50\n",
      "\n",
      "Withdrawal of $120 failed. Insufficient funds.\n",
      "Hello, Malcolm. Your current balance is: $50\n",
      "\n",
      "Withdrawal of $37 complete.\n",
      "Hello, Malcolm. Your current balance is: $13\n",
      "\n"
     ]
    }
   ],
   "source": [
    "first = 'Malcolm'\n",
    "last = 'Nichols'\n",
    "\n",
    "my_account = ATM(first, last, 340)\n",
    "\n",
    "transaction = ['W', 'W', 'D', 'W', 'W', 'W', 'D', 'W', 'W']\n",
    "amount = [150, 75, 100, 150, 120, 65, 50, 120, 37]\n",
    "\n",
    "for i in range(0,len(amount)):\n",
    "    if transaction[i] == 'W':\n",
    "        my_account.__withdrawal__(amount[i])\n",
    "    else:\n",
    "        my_account.__deposit__(amount[i])\n",
    "    my_account.__check_balance__()\n",
    "    print()"
   ]
  }
 ],
 "metadata": {
  "kernelspec": {
   "display_name": "Python 3",
   "language": "python",
   "name": "python3"
  },
  "language_info": {
   "codemirror_mode": {
    "name": "ipython",
    "version": 3
   },
   "file_extension": ".py",
   "mimetype": "text/x-python",
   "name": "python",
   "nbconvert_exporter": "python",
   "pygments_lexer": "ipython3",
   "version": "3.8.3"
  }
 },
 "nbformat": 4,
 "nbformat_minor": 4
}
