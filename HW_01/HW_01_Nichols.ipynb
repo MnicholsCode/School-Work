{
 "cells": [
  {
   "cell_type": "markdown",
   "metadata": {},
   "source": [
    "# COSC 130- Homework 01\n",
    "\n",
    "### Malcolm Nichols\n",
    "\n",
    "Due Monday 8/31/2020"
   ]
  },
  {
   "cell_type": "markdown",
   "metadata": {},
   "source": [
    "## Problem 1: Arithmetic and Geometric Means"
   ]
  },
  {
   "cell_type": "code",
   "execution_count": 1,
   "metadata": {},
   "outputs": [
    {
     "name": "stdout",
     "output_type": "stream",
     "text": [
      "Sum:             59\n",
      "Product:         42636\n",
      "Arithmetic Mean: 14.75\n",
      "Geometric Mean:  14.37\n"
     ]
    }
   ],
   "source": [
    "x0 = 11\n",
    "x1 = 12\n",
    "x2 = 17\n",
    "x3 = 19\n",
    "\n",
    "total = sum([x0,x1,x2,x3])                            #produces the sum of the varaibles\n",
    "product = x0 * x1 * x2 * x3                           #produces the product of the variables\n",
    "\n",
    "arith_mean = total / 4                                #function to calculate arithemetic mean\n",
    "geom_mean = product ** (1/4)                          #function to calculate geometric mean\n",
    "\n",
    "print(f'Sum:{total:>15}')                             #Using fstring to print aligned values\n",
    "print(f'Product:{product:>14}')\n",
    "print(f'Arithmetic Mean:{round(arith_mean,2):>6}')    #Using round() function to round to 2 decimal places\n",
    "print(f'Geometric Mean:{round(geom_mean,2):>7}')"
   ]
  },
  {
   "cell_type": "markdown",
   "metadata": {},
   "source": [
    "## Problem 2: Calculating Bill"
   ]
  },
  {
   "cell_type": "code",
   "execution_count": 2,
   "metadata": {},
   "outputs": [
    {
     "name": "stdout",
     "output_type": "stream",
     "text": [
      "2 Side Salads:\t  $7.9\n",
      "2 Hamburgers:\t $17.9\n",
      "2 Diet Sodas:\t  $5.0\n",
      "----------------------\n",
      "Subtotal:\t $30.8\n",
      "Tax (4.75%):\t $1.46\n",
      "Tip (15%):\t $4.62\n",
      "----------------------\n",
      "Total Charge:\t$36.88\n"
     ]
    }
   ],
   "source": [
    "ss_cost = 3.95 * 2                                                #Since there is 2 items, we mult by 2\n",
    "hb_cost = 8.95 * 2\n",
    "ds_cost = 2.50 * 2\n",
    "\n",
    "subtotal = sum([ss_cost,hb_cost,ds_cost])                         #produces the sum of the order\n",
    "tax = round(subtotal * 0.0475,2)                                  #calculates the tax and rounds it to 2 decimal places\n",
    "tip = round(subtotal * 0.15,2)                                    #calcualtes tip and rounds it to 2 decimal places\n",
    "total_charge = round(subtotal + tax + tip,2)                      #gives us total charge of the order\n",
    "\n",
    "print('2 Side Salads:\\t', '  $', ss_cost, sep=\"\" )\n",
    "print('2 Hamburgers:\\t', ' $', hb_cost, sep =\"\")\n",
    "print('2 Diet Sodas:\\t', '  $', ds_cost, sep=\"\")\n",
    "print('----------------------')\n",
    "print('Subtotal:\\t', ' $', round(subtotal,1) , sep=\"\")\n",
    "print('Tax (4.75%):\\t', ' $', tax, sep=\"\")\n",
    "print('Tip (15%):\\t', ' $', tip, sep=\"\")\n",
    "print('----------------------')\n",
    "print('Total Charge:\\t', '$', total_charge, sep=\"\")"
   ]
  },
  {
   "cell_type": "markdown",
   "metadata": {},
   "source": [
    "## Problem 3: Volume of a Sphere"
   ]
  },
  {
   "cell_type": "code",
   "execution_count": 8,
   "metadata": {},
   "outputs": [
    {
     "name": "stdout",
     "output_type": "stream",
     "text": [
      "The volume of a sphere with radius 4.6 is equal to 407.720.\n",
      "The volume of a sphere with radius 7.2 is equal to 1563.456.\n",
      "The volume of a sphere with radius 9.7 is equal to 3822.992.\n"
     ]
    }
   ],
   "source": [
    "pi = 3.14159\n",
    "r1 = 4.6                                                      #radius of a sphere\n",
    "r2 = 7.2\n",
    "r3 = 9.7\n",
    "\n",
    "v1 = (4/3) * pi * r1**3                                       #volume of the radii\n",
    "v2 = (4/3) * pi * r2**3\n",
    "v3 = (4/3) * pi * r3**3\n",
    "print(f'The volume of a sphere with radius {r1} is equal to {v1:.3f}.')\n",
    "print(f'The volume of a sphere with radius {r2} is equal to {round(v2,3)}.')\n",
    "print(f'The volume of a sphere with radius {r3} is equal to {round(v3,3)}.')"
   ]
  },
  {
   "cell_type": "markdown",
   "metadata": {},
   "source": [
    "## Problem 4: Simple Interest"
   ]
  },
  {
   "cell_type": "code",
   "execution_count": 2,
   "metadata": {},
   "outputs": [
    {
     "name": "stdout",
     "output_type": "stream",
     "text": [
      "Amount repaid: $225.75\n"
     ]
    }
   ],
   "source": [
    "P = 210\n",
    "i = 0.09\n",
    "t = 10/12\n",
    "\n",
    "A = P * (1 + i * t)\n",
    "print('Amount repaid: ', '$', A, sep=\"\")"
   ]
  },
  {
   "cell_type": "markdown",
   "metadata": {},
   "source": [
    "## Problem 5: Compound Interest"
   ]
  },
  {
   "cell_type": "code",
   "execution_count": 3,
   "metadata": {},
   "outputs": [
    {
     "name": "stdout",
     "output_type": "stream",
     "text": [
      "Amount repaid: $463.05\n"
     ]
    }
   ],
   "source": [
    "P = 400\n",
    "i = 0.05\n",
    "t = 3\n",
    "\n",
    "A = round(P * (1 + i) ** t,2)\n",
    "print('Amount repaid: ', '$', A, sep=\"\")"
   ]
  },
  {
   "cell_type": "markdown",
   "metadata": {},
   "source": [
    "## Problem 6: Annuity"
   ]
  },
  {
   "cell_type": "code",
   "execution_count": 4,
   "metadata": {},
   "outputs": [
    {
     "name": "stdout",
     "output_type": "stream",
     "text": [
      "Balance after 18 years: $51290.83\n"
     ]
    }
   ],
   "source": [
    "PMT = 2000\n",
    "i = 0.04\n",
    "n = 18\n",
    "\n",
    "A = round(PMT * ((1 + i)**n - 1) / i,2)\n",
    "print(\"Balance after 18 years: \", \"$\", A, sep=\"\")"
   ]
  },
  {
   "cell_type": "markdown",
   "metadata": {},
   "source": [
    "## Problem 7: Probability"
   ]
  },
  {
   "cell_type": "code",
   "execution_count": 7,
   "metadata": {},
   "outputs": [
    {
     "name": "stdout",
     "output_type": "stream",
     "text": [
      "Probability that both people are late:        0.18\n",
      "Probability that at least one person is late: 0.72\n"
     ]
    }
   ],
   "source": [
    "prob_A = 0.6\n",
    "prob_B = 0.3\n",
    "\n",
    "prob_A_and_B = prob_A * prob_B\n",
    "prob_A_or_B = prob_A + prob_B - prob_A_and_B\n",
    "\n",
    "print(f'Probability that both people are late:{prob_A_and_B:>12}')\n",
    "print(f'Probability that at least one person is late:{prob_A_or_B:>5}')"
   ]
  },
  {
   "cell_type": "markdown",
   "metadata": {},
   "source": [
    "## Problem 8: Constructing an Output Message"
   ]
  },
  {
   "cell_type": "code",
   "execution_count": 8,
   "metadata": {},
   "outputs": [
    {
     "name": "stdout",
     "output_type": "stream",
     "text": [
      "First Name: Malcolm\n",
      "Last Name:  Nichols\n",
      "Student ID: 960371\n"
     ]
    }
   ],
   "source": [
    "first = 'Malcolm'\n",
    "last = 'Nichols'\n",
    "sid = 960371\n",
    "\n",
    "msg = f'First Name:{first:>8}\\nLast Name:{last:>9}\\nStudent ID:{sid:>7}'\n",
    "print(msg)"
   ]
  }
 ],
 "metadata": {
  "kernelspec": {
   "display_name": "Python 3",
   "language": "python",
   "name": "python3"
  },
  "language_info": {
   "codemirror_mode": {
    "name": "ipython",
    "version": 3
   },
   "file_extension": ".py",
   "mimetype": "text/x-python",
   "name": "python",
   "nbconvert_exporter": "python",
   "pygments_lexer": "ipython3",
   "version": "3.8.3"
  }
 },
 "nbformat": 4,
 "nbformat_minor": 4
}
