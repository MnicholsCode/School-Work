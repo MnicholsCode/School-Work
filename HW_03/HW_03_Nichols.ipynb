{
 "cells": [
  {
   "cell_type": "markdown",
   "metadata": {},
   "source": [
    "# COSC 130 - Homework 03\n",
    "\n",
    "### Malcolm Nichols"
   ]
  },
  {
   "cell_type": "markdown",
   "metadata": {},
   "source": [
    "## Problem 1: Calculating Exam Scores"
   ]
  },
  {
   "cell_type": "code",
   "execution_count": 1,
   "metadata": {},
   "outputs": [
    {
     "name": "stdout",
     "output_type": "stream",
     "text": [
      "Student 1 Grade: 64%\n",
      "Student 2 Grade: 84%\n"
     ]
    }
   ],
   "source": [
    "correct = ['D', 'B', 'C', 'A', 'C', 'D', 'A', 'C', 'C', 'B', 'D', 'A', 'B', 'D', 'C', 'D', 'C', 'D', 'C', 'A', 'B', 'D', 'C',\n",
    "           'B', 'A']\n",
    "answers1 = ['A', 'B', 'C', 'A', 'B', 'D', 'A', 'A', 'C', 'B', 'D', 'A', 'D', 'C', 'C', 'B', 'C', 'D', 'B', 'A', 'D', 'D', 'C',\n",
    "            'C', 'A']\n",
    "answers2 = ['D', 'A', 'C', 'A', 'B', 'D', 'A', 'C', 'C', 'B', 'D', 'A', 'B', 'D', 'A', 'D', 'C', 'D', 'C', 'A', 'B', 'C', 'C',\n",
    "            'B', 'A']\n",
    "count1 = 0\n",
    "count2 = 0\n",
    "\n",
    "for i in range(len(correct)):\n",
    "    if answers1[i] == correct[i]:\n",
    "        count1 += 1\n",
    "    if answers2[i] == correct[i]:\n",
    "        count2 += 1\n",
    "\n",
    "grade1 = (count1 / 25) * 100\n",
    "grade2 =(count2 / 25) * 100\n",
    "\n",
    "print(f\"Student 1 Grade: {int(grade1)}%\")\n",
    "print(f\"Student 2 Grade: {int(grade2)}%\")"
   ]
  },
  {
   "cell_type": "markdown",
   "metadata": {},
   "source": [
    "## Problem 2: Calculating Price of a Bulk Order"
   ]
  },
  {
   "cell_type": "code",
   "execution_count": 2,
   "metadata": {},
   "outputs": [
    {
     "name": "stdout",
     "output_type": "stream",
     "text": [
      "The cost for an order of 84 widgets is $29400.\n",
      "The cost for an order of 100 widgets is $35000.\n",
      "The cost for an order of 126 widgets is $42800.\n",
      "The cost for an order of 150 widgets is $50000.\n",
      "The cost for an order of 186 widgets is $60800.\n",
      "The cost for an order of 200 widgets is $65000.\n",
      "The cost for an order of 216 widgets is $69000.\n",
      "The cost for an order of 248 widgets is $77000.\n"
     ]
    }
   ],
   "source": [
    "quantities = [84, 100, 126, 150, 186, 200, 216, 248]\n",
    "\n",
    "for i in range(len(quantities)):\n",
    "    if quantities[i] <= 100:\n",
    "        cost = quantities[i] * 350\n",
    "    elif quantities[i] <= 200:\n",
    "        temp = 100 * 350\n",
    "        cost = (quantities[i]-100)*300 + temp     \n",
    "    elif quantities[i] > 200:\n",
    "        temp = 100 * 350\n",
    "        temp2 = 100 * 300\n",
    "        cost = (quantities[i]-200)*250 + temp + temp2\n",
    "    \n",
    "    print(f\"The cost for an order of {quantities[i]} widgets is ${int(cost)}.\")"
   ]
  },
  {
   "cell_type": "markdown",
   "metadata": {},
   "source": [
    "## Problem 3: Creating an Amortization Schedule"
   ]
  },
  {
   "cell_type": "code",
   "execution_count": 3,
   "metadata": {},
   "outputs": [
    {
     "name": "stdout",
     "output_type": "stream",
     "text": [
      "The balance at the end of year 1 is $900.00.\n",
      "The balance at the end of year 2 is $795.00.\n",
      "The balance at the end of year 3 is $684.75.\n",
      "The balance at the end of year 4 is $568.99.\n",
      "The balance at the end of year 5 is $447.44.\n",
      "The balance at the end of year 6 is $319.81.\n",
      "The balance at the end of year 7 is $185.80.\n",
      "The balance at the end of year 8 is $45.09.\n",
      "The balance at the end of year 9 is $0.00.\n"
     ]
    }
   ],
   "source": [
    "balance = 1000\n",
    "i = 5 / 100\n",
    "pmt = 150\n",
    "\n",
    "n = 0\n",
    "while balance > 0:\n",
    "    balance = round(balance * (1 + i) - pmt, 2)\n",
    "    n += 1\n",
    "    if balance < 0:\n",
    "        final = balance + pmt\n",
    "        balance = 0\n",
    "         \n",
    "    print(f\"The balance at the end of year {n} is ${balance:.2f}.\")"
   ]
  },
  {
   "cell_type": "code",
   "execution_count": 4,
   "metadata": {},
   "outputs": [
    {
     "name": "stdout",
     "output_type": "stream",
     "text": [
      "The amount of the final payment will be $47.34.\n"
     ]
    }
   ],
   "source": [
    "print(f\"The amount of the final payment will be ${final:.2f}.\")"
   ]
  },
  {
   "cell_type": "markdown",
   "metadata": {},
   "source": [
    "## Problem 4: Hailstone Sequences"
   ]
  },
  {
   "cell_type": "code",
   "execution_count": 5,
   "metadata": {},
   "outputs": [
    {
     "name": "stdout",
     "output_type": "stream",
     "text": [
      "[15, 46, 23, 70, 35, 106, 53, 160, 80, 40, 20, 10, 5, 16, 8, 4, 2, 1]\n",
      "[17, 52, 26, 13, 40, 20, 10, 5, 16, 8, 4, 2, 1]\n",
      "[22, 11, 34, 17, 52, 26, 13, 40, 20, 10, 5, 16, 8, 4, 2, 1]\n"
     ]
    }
   ],
   "source": [
    "n = 15\n",
    "hs15 = [n]\n",
    "while n != 1:\n",
    "    if (n%2) == 0:\n",
    "        n = int(n / 2)\n",
    "        hs15.append(n)\n",
    "    else:\n",
    "        n = 3*n + 1\n",
    "        hs15.append(n)\n",
    "print(hs15)\n",
    "\n",
    "n = 17\n",
    "hs17 = [n]\n",
    "while n != 1:\n",
    "    if (n%2) == 0:\n",
    "        n = int(n / 2)\n",
    "        hs17.append(n)\n",
    "    else:\n",
    "        n = 3*n + 1\n",
    "        hs17.append(n)\n",
    "print(hs17)\n",
    "\n",
    "n = 22\n",
    "hs22 = [n]\n",
    "while n != 1:\n",
    "    if (n%2) == 0:\n",
    "        n = int(n / 2)\n",
    "        hs22.append(n)\n",
    "    else:\n",
    "        n = 3*n + 1\n",
    "        hs22.append(n)\n",
    "print(hs22)"
   ]
  },
  {
   "cell_type": "markdown",
   "metadata": {},
   "source": [
    "## Problem 5: Predator/Prey Model"
   ]
  },
  {
   "cell_type": "code",
   "execution_count": 6,
   "metadata": {},
   "outputs": [
    {
     "name": "stdout",
     "output_type": "stream",
     "text": [
      "Year\t R_pop   W_pop\n",
      "----------------------\n",
      "0        1000    200   \n",
      "1        1100    220   \n",
      "2        1166    249   \n",
      "3        1168    286   \n",
      "4        1084    329   \n",
      "5        913     370   \n",
      "6        694     397   \n",
      "7        490     400   \n",
      "8        343     379   \n",
      "9        255     342   \n",
      "10       208     300   \n",
      "11       187     259   \n",
      "12       184     222   \n",
      "13       194     190   \n",
      "14       217     163   \n",
      "15       255     141   \n",
      "16       311     124   \n",
      "17       389     111   \n",
      "18       497     102   \n",
      "19       644     97    \n",
      "20       841     96    \n",
      "21       1100    101   \n",
      "22       1428    114   \n",
      "23       1816    140   \n",
      "24       2216    188   \n",
      "25       2491    275   \n",
      "26       2366    426   \n",
      "27       1533    643   \n",
      "28       328     810   \n",
      "29       0       728   \n"
     ]
    }
   ],
   "source": [
    "r_pop = 1000\n",
    "w_pop = 200\n",
    "\n",
    "print(\"Year\\t R_pop   W_pop\")\n",
    "print(\"----------------------\")\n",
    "print(f\"{0:<9}{1000:<8}{200:<6}\")\n",
    "\n",
    "year = 1\n",
    "while (r_pop > 0 and w_pop > 0):\n",
    "    r_pop_prev = r_pop\n",
    "    w_pop_prev = w_pop\n",
    "    r_pop = round(1.5 * r_pop_prev - 0.002 * r_pop_prev * w_pop_prev)\n",
    "    w_pop = round(0.8 * w_pop_prev + 0.0003 * r_pop_prev * w_pop_prev)\n",
    "    if (r_pop < 0):\n",
    "        r_pop = 0\n",
    "    elif(w_pop < 0):\n",
    "        w_pop = 0\n",
    "    print(f\"{year:<9}{r_pop:<8}{w_pop:<6}\")\n",
    "    year += 1"
   ]
  },
  {
   "cell_type": "markdown",
   "metadata": {},
   "source": [
    "## Problem 6: Finding a Root of a Polynomial Function"
   ]
  },
  {
   "cell_type": "code",
   "execution_count": 7,
   "metadata": {},
   "outputs": [
    {
     "name": "stdout",
     "output_type": "stream",
     "text": [
      "The approximate solution is 3.4675\n"
     ]
    }
   ],
   "source": [
    "x1 = 3\n",
    "x2 = 4\n",
    "val1 = x1**3 - (4*x1**2) + (3 * x1) - 4\n",
    "val2 = x2**3 - (4*x2**2) + (3 * x2) - 4\n",
    "# print(val1,val2)\n",
    "\n",
    "while (abs(val1-val2) > 0.00001):          \n",
    "    new_x = (x1 + x2) / 2\n",
    "    new_val = new_x**3 - (4*new_x**2) + (3 * new_x) - 4         \n",
    "    if new_val > 0:\n",
    "        x2 = new_x\n",
    "        val2 = new_val\n",
    "    elif new_val < 0:\n",
    "        x1 = new_x\n",
    "        val1 = new_val\n",
    "#     print(x1, x2)      debug print statement, used to see the values\n",
    "avg = (x1+x2)/2\n",
    "print(f\"The approximate solution is {avg:.4f}\")"
   ]
  },
  {
   "cell_type": "markdown",
   "metadata": {},
   "source": [
    "## Problem 7: Grade Database"
   ]
  },
  {
   "cell_type": "code",
   "execution_count": 8,
   "metadata": {},
   "outputs": [],
   "source": [
    "students = {\n",
    " 146832:{'first':'Brendan', 'last':'Small'},\n",
    " 147354:{'first':'Melissa', 'last':'Robbins'},\n",
    " 149126:{'first':'Jason', 'last':'Penopolis'},\n",
    " 149735:{'first':'Fenton', 'last':'Mulley'}\n",
    "}\n",
    "\n",
    "courses = {\n",
    " 'ENGL 101':'Composition I',\n",
    " 'ENGL 104':'Composition II',\n",
    " 'MATH 117':'College Algebra',\n",
    " 'MATH 151':'Calculus I',\n",
    " 'CHEM 103':'General Chemistry I',\n",
    " 'ECON 201':'Macroeconomics'\n",
    "}\n",
    "\n",
    "sid = [149126, 146832, 147354, 149735, 149126, 146832,\n",
    "       146832, 149735, 149126, 147354, 147354, 149735]\n",
    "cid = ['ENGL 101', 'MATH 117', 'ENGL 104', 'CHEM 103', 'MATH 117', 'ECON 201',\n",
    "       'ENGL 101', 'ENGL 101', 'CHEM 103', 'ENGL 104', 'MATH 151', 'MATH 117']\n",
    "grade = ['D', 'C', 'B', 'A', 'B', 'C',\n",
    "         'A', 'F', 'B', 'A', 'A', 'C']"
   ]
  },
  {
   "cell_type": "code",
   "execution_count": 9,
   "metadata": {},
   "outputs": [
    {
     "name": "stdout",
     "output_type": "stream",
     "text": [
      "SID      First     Last        CID        Course Name           Grade\n",
      "---------------------------------------------------------------------\n",
      "149126   Jason     Penopolis   ENGL 101   Composition I             D\n",
      "146832   Brendan   Small       MATH 117   College Algebra           C\n",
      "147354   Melissa   Robbins     ENGL 104   Composition II            B\n",
      "149735   Fenton    Mulley      CHEM 103   General Chemistry I       A\n",
      "149126   Jason     Penopolis   MATH 117   College Algebra           B\n",
      "146832   Brendan   Small       ECON 201   Macroeconomics            C\n",
      "146832   Brendan   Small       ENGL 101   Composition I             A\n",
      "149735   Fenton    Mulley      ENGL 101   Composition I             F\n",
      "149126   Jason     Penopolis   CHEM 103   General Chemistry I       B\n",
      "147354   Melissa   Robbins     ENGL 104   Composition II            A\n",
      "147354   Melissa   Robbins     MATH 151   Calculus I                A\n",
      "149735   Fenton    Mulley      MATH 117   College Algebra           C\n"
     ]
    }
   ],
   "source": [
    "print(f\"{'SID':<9}{'First':<10}{'Last':<12}{'CID':<11}{'Course Name':<22}{'Grade':>5}\")\n",
    "print(\"-\"*69)\n",
    "\n",
    "#looping over student id and getting values\n",
    "for i in range(0,len(sid)):\n",
    "    first_name = students[sid[i]]['first']\n",
    "    last_name = students[sid[i]]['last']\n",
    "    \n",
    "    course_name = courses[cid[i]]\n",
    "    \n",
    "    print(f\"{sid[i]:<9}{first_name:<10}{last_name:<12}{cid[i]:<11}{course_name:<22}{grade[i]:>5}\")\n",
    " \n",
    "  \n",
    "       "
   ]
  },
  {
   "cell_type": "markdown",
   "metadata": {},
   "source": [
    "## Problem 8: Warehouse Inventory"
   ]
  },
  {
   "cell_type": "code",
   "execution_count": 10,
   "metadata": {},
   "outputs": [],
   "source": [
    "prices = {'p101':37.52, 'p117':56.98, 'p122':43.72, 'p125':48.33, 'p126':52.45}\n",
    "\n",
    "inventory = {\n",
    " 'STL':{'p101':520, 'p117':315, 'p125':258, 'p126':345},\n",
    " 'CHI':{'p117':864, 'p125':612},\n",
    " 'KC':{'p101':264, 'p122':772, 'p125':467}\n",
    "}"
   ]
  },
  {
   "cell_type": "code",
   "execution_count": 11,
   "metadata": {},
   "outputs": [
    {
     "name": "stdout",
     "output_type": "stream",
     "text": [
      "p101: $29415.68\n",
      "p117: $67179.42\n",
      "p122: $33751.84\n",
      "p125: $64617.21\n",
      "p126: $18095.25\n"
     ]
    }
   ],
   "source": [
    "total_inv = {}\n",
    "for prod_id, price in prices.items():\n",
    "    total = 0\n",
    "    for w_items in inventory.values():\n",
    "        if prod_id in w_items.keys():\n",
    "            quantity = w_items[prod_id]\n",
    "            total += quantity * price  \n",
    "    total_inv = {prod_id:total}\n",
    "    for i, k in total_inv.items():\n",
    "        print(f\"{i}: ${k:.2f}\")"
   ]
  }
 ],
 "metadata": {
  "kernelspec": {
   "display_name": "Python 3",
   "language": "python",
   "name": "python3"
  },
  "language_info": {
   "codemirror_mode": {
    "name": "ipython",
    "version": 3
   },
   "file_extension": ".py",
   "mimetype": "text/x-python",
   "name": "python",
   "nbconvert_exporter": "python",
   "pygments_lexer": "ipython3",
   "version": "3.8.3"
  }
 },
 "nbformat": 4,
 "nbformat_minor": 4
}
